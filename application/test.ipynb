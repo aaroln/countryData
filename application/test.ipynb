{
 "cells": [
  {
   "cell_type": "code",
   "execution_count": 94,
   "metadata": {},
   "outputs": [],
   "source": [
    "import pandas as pd\n",
    "\n",
    "dfPop = pd.read_csv('population.csv')\n",
    "dfLandCover = pd.read_csv('landCover.csv')\n",
    "dfUrbanLand = pd.read_csv('urbanLand.csv')\n",
    "dfUrbanPop = pd.read_csv('urbanPop.csv')\n",
    "\n",
    "\n"
   ]
  },
  {
   "cell_type": "code",
   "execution_count": 101,
   "metadata": {},
   "outputs": [
    {
     "name": "stdout",
     "output_type": "stream",
     "text": [
      "Cambodia\n",
      "Cambodia\n",
      "Cambodia\n",
      "Cambodia\n"
     ]
    }
   ],
   "source": [
    "listPop = dfPop['Country Name'].tolist()\n",
    "listLand = dfLandCover['Country'].tolist()\n",
    "listULand = dfUrbanLand['Country Name'].tolist()\n",
    "listUPop = dfUrbanPop['Country Name'].tolist()\n",
    "\n",
    "number = 32\n",
    "\n",
    "print(listPop[number])\n",
    "print(listLand[number])\n",
    "print(listULand[number])\n",
    "print(listUPop[number])\n",
    "\n",
    "\n",
    "# Filter the DataFrame based on the list of values\n",
    "#filtered_df = dfLandCover[dfLandCover['Country'].isin(listPop)]\n",
    "\n",
    "\n",
    "\n",
    "#filtered_df.to_csv('landCover.csv', index=False)"
   ]
  },
  {
   "cell_type": "code",
   "execution_count": 104,
   "metadata": {},
   "outputs": [
    {
     "name": "stdout",
     "output_type": "stream",
     "text": [
      "['APPLE', 'BANANA', 'CHERRY']\n"
     ]
    }
   ],
   "source": [
    "original_list = [\"apple\", \"banana\", \"cherry\"]\n",
    "\n",
    "uppercase_list = [s.upper() for s in original_list]\n",
    "\n",
    "print(uppercase_list)"
   ]
  }
 ],
 "metadata": {
  "kernelspec": {
   "display_name": "2120",
   "language": "python",
   "name": "python3"
  },
  "language_info": {
   "codemirror_mode": {
    "name": "ipython",
    "version": 3
   },
   "file_extension": ".py",
   "mimetype": "text/x-python",
   "name": "python",
   "nbconvert_exporter": "python",
   "pygments_lexer": "ipython3",
   "version": "3.11.2"
  }
 },
 "nbformat": 4,
 "nbformat_minor": 2
}
